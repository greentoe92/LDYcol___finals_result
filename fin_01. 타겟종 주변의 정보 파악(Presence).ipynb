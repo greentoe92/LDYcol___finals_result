{
 "cells": [
  {
   "cell_type": "markdown",
   "id": "68069539",
   "metadata": {
    "toc": true
   },
   "source": [
    "<h1>Table of Contents<span class=\"tocSkip\"></span></h1>\n",
    "<div class=\"toc\"><ul class=\"toc-item\"><li><span><a href=\"#1.-타겟종이-존재하는-위치-주변의-정보-파악하기\" data-toc-modified-id=\"1.-타겟종이-존재하는-위치-주변의-정보-파악하기-1\"><span class=\"toc-item-num\">1&nbsp;&nbsp;</span>1. 타겟종이 존재하는 위치 주변의 정보 파악하기</a></span><ul class=\"toc-item\"><li><span><a href=\"#1-1.-타겟종-주변의-무당벌레-종-분포-파악\" data-toc-modified-id=\"1-1.-타겟종-주변의-무당벌레-종-분포-파악-1.1\"><span class=\"toc-item-num\">1.1&nbsp;&nbsp;</span>1-1. 타겟종 주변의 무당벌레 종 분포 파악</a></span><ul class=\"toc-item\"><li><span><a href=\"#1-2.-타겟종-주변의-새-정보-파악\" data-toc-modified-id=\"1-2.-타겟종-주변의-새-정보-파악-1.1.1\"><span class=\"toc-item-num\">1.1.1&nbsp;&nbsp;</span>1-2. 타겟종 주변의 새 정보 파악</a></span></li></ul></li></ul></li></ul></div>"
   ]
  },
  {
   "cell_type": "markdown",
   "id": "39e7d7e9",
   "metadata": {},
   "source": [
    "# 1. 타겟종이 존재하는 위치 주변의 정보 파악하기  "
   ]
  },
  {
   "cell_type": "code",
   "execution_count": 1,
   "id": "448739b3",
   "metadata": {},
   "outputs": [],
   "source": [
    "import pandas as pd\n",
    "import numpy as np\n",
    "import os\n",
    "import pandas as pd\n",
    "from tqdm import tqdm\n",
    "import numpy as np\n",
    "from haversine import haversine"
   ]
  },
  {
   "cell_type": "markdown",
   "id": "5db67897",
   "metadata": {},
   "source": [
    "## 1-1. 타겟종 주변의 무당벌레 종 분포 파악"
   ]
  },
  {
   "cell_type": "code",
   "execution_count": null,
   "id": "701fb55e",
   "metadata": {},
   "outputs": [],
   "source": [
    "# 무당벌레 전체 관측목록\n",
    "df = pd.read_csv(\"./Data/20220209_07_21_무당벌레관측.csv\")\n",
    "\n",
    "\n",
    "\n",
    "# gps 오차 1000m미만만 남기기\n",
    "df = df[df.public_positional_accuracy<=1000].reset_index(drop=True)\n",
    "\n",
    "\n",
    "#Latitude, Longitude 0으로 기록된 부분들 삭제\n",
    "df = df[(df.Latitude!=0.0)&(df.Longitude!=0.0)].reset_index(drop=True)\n",
    "\n",
    "\n",
    "#gps 변환\n",
    "df.Latitude = df.Latitude.astype(float)\n",
    "df.Longitude = df.Longitude.astype(float)\n",
    "\n",
    "df_gps = []\n",
    "for i in tqdm(range(len(df))):\n",
    "    df_gps.append( (df.Latitude[i], df.Longitude[i]) )\n",
    "    \n",
    "    \n",
    "df['gps'] = df_gps   \n",
    "\n",
    "#sp.로 들어간 애들을 제거\n",
    "sp_idx = []\n",
    "for i in range(len(df)):\n",
    "    if 'sp.' in df.Species[i]:\n",
    "        sp_idx.append(i)\n",
    "df= df.drop(sp_idx).reset_index(drop=True)\n",
    "\n",
    "# value_counts 해서 통계적으로 유의미한 30개도 안되는 애들 고르기\n",
    "under_30 = []\n",
    "for i in range(len(df.Species.value_counts())):\n",
    "    if df.Species.value_counts()[i]<30:\n",
    "        under_30.append(df.Species.value_counts().index[i])\n",
    "        \n",
    "        \n",
    "# 고른애들과 이름이 같다면 drop해야함\n",
    "drop_30 = []\n",
    "for i in tqdm(range(len(df.Species))):\n",
    "    for j in under_30:\n",
    "        if df.Species[i] == j:\n",
    "            drop_30.append(i)        \n",
    "df= df.drop(drop_30).reset_index(drop=True)            \n",
    "            \n",
    "# 속만 있는 경우 제거\n",
    "one_letter = []\n",
    "for i in df.Species.value_counts().index:\n",
    "    if len(i.split(' ')) == 1:\n",
    "        one_letter.append(i)    \n",
    "        \n",
    "drop_one = []\n",
    "for i in tqdm(range(len(df.Species))):\n",
    "    for j in one_letter:\n",
    "        if df.Species[i] == j:\n",
    "            drop_one.append(i)        \n",
    "df = df.drop(drop_one).reset_index(drop=True)\n",
    "\n",
    "\n",
    "# 타겟종이 될 종만 남긴 데이터 프레임 생성\n",
    "target = 'Coccinella novemnotata'\n",
    "df_target = df[df.Species==target].reset_index(drop=True)\n",
    "\n",
    "\n",
    "\n",
    "# 타겟종의 데이터프레임에 주변 정보를 카운트해서 넣을 컬럼 생성\n",
    "for i in df.Species.value_counts().index:\n",
    "\n",
    "    df_target[i+'_18'] = 0\n",
    "\n",
    "    \n",
    "    \n"
   ]
  },
  {
   "cell_type": "code",
   "execution_count": null,
   "id": "75be22d0",
   "metadata": {},
   "outputs": [],
   "source": [
    "# 주변 종 체크\n",
    "for i in tqdm(range(len(df_target))): # target만 뽑아놓은 데이터 프레임\n",
    "    for j in range(len(df.gps)):  # 전체 무당벌레 데이터 프레임\n",
    "        if haversine(df_target.gps[i], df.gps[j], unit='km') <= 18 and df_target.Year[i] == df.Year[j]:\n",
    "            df_target[df.Species[j]+'_18'][i]+=1"
   ]
  },
  {
   "cell_type": "markdown",
   "id": "d1ecadf6",
   "metadata": {},
   "source": [
    "### 1-2. 타겟종 주변의 새 정보 파악"
   ]
  },
  {
   "cell_type": "code",
   "execution_count": null,
   "id": "32e1e9cb",
   "metadata": {},
   "outputs": [],
   "source": [
    "# Ebird에서 가져온 새 목록 합치기\n",
    "os.chdir(path = './Data/E_bird/')\n",
    "\n",
    "# directory 내의 csv들을 전부 가져와서\n",
    "for i in range(len(os.listdir())):\n",
    "    globals()['bird{}'.format(i)] = pd.read_csv(os.listdir()[i],sep='\\t')\n",
    "\n",
    "# for_merge 라는 변수에 모두 합쳐놓음\n",
    "for_merge = bird1.iloc[0:0]\n",
    "for i in range(26):\n",
    "    for_merge = pd.concat([for_merge,globals()['bird{}'.format(i)]])\n",
    "bird2021 = pd.read_csv(\"../새2021.csv\")\n",
    "for_merge = pd.concat([for_merge, bird2021]).reset_index(drop=True)\n",
    "\n",
    "\n",
    "# EBIRD자료는 GPS정확도를 제공하지 않으므로, GPS정확도가 존재한다면 INAT의 자료임\n",
    "for_merge = for_merge[for_merge.coordinateUncertaintyInMeters.isnull()].reset_index(drop=True)\n",
    "\n",
    "# 필요한 컬럼들만 남김\n",
    "for_merge=for_merge[['species','year','month','decimalLatitude','decimalLongitude']].reset_index(drop=True)\n",
    "\n",
    "# 종 이름이 NAN이면 쓸수 없으므로 DROP\n",
    "for_merge=for_merge.drop(for_merge[for_merge.species.isnull()==True].index).reset_index(drop=True)\n",
    "\n",
    "# haversine은 set에 들어있는 gps값을 받음 (lat, lon) 이형식으로 변환하는 과정\n",
    "for_gps = []\n",
    "for i in tqdm(range(len(for_merge))):\n",
    "    for_gps.append( (for_merge['decimalLatitude'][i], for_merge['decimalLongitude'][i]) )\n",
    "    \n",
    "for_merge['gps'] = for_gps\n",
    "\n",
    "\n",
    "\n",
    "for_merge=for_merge[(for_merge.species!='Locustella certhiola')&(for_merge.species!='Locustella ochotensis')&\n",
    "         (for_merge.species!='Ianthocincla pectoralis')&(for_merge.species!='Luscinia calliope')&\n",
    "         (for_merge.species!='Iduna aedon')&(for_merge.species!='Phylloscopus sibillatrix')&\n",
    "         (for_merge.species!='Muscicapa latirostris')&(for_merge.species!='Tiaris bicolor')&\n",
    "         (for_merge.species!='Tiaris canorus')&(for_merge.species!='Lonchura oryzivora')&\n",
    "         (for_merge.species!='Lonchura cucullata')&(for_merge.species!='Estrilda coerulescens')&\n",
    "         (for_merge.species!='alcarius ornatus')]\n",
    "\n",
    "# 무당벌레는 관측지역에 잡힌 숫자를 믿을 수 없어서 관측 자체만 믿었음, 새 역시도 drop_duplicate로 동일한 절차 진행\n",
    "for_merge = for_merge.drop_duplicates(keep='first').reset_index(drop=True)\n",
    "\n",
    "\n",
    "# 타겟종의 데이터프레임에 주변 정보를 카운트해서 넣을 컬럼 생성\n",
    "for i in for_merge.species.value_counts().index:\n",
    "    df_target[i+'_1'] = 0"
   ]
  },
  {
   "cell_type": "code",
   "execution_count": null,
   "id": "bea01f8c",
   "metadata": {},
   "outputs": [],
   "source": [
    "for i in tqdm(range(len(df_target))): # 타겟종만 뽑아놓은 데이터 프레임\n",
    "    for j in range(len(for_merge.gps)):  # 전체 새 데이터 프레임\n",
    "            if haversine(df_target.gps[i], for_merge.gps[j], unit='km') <= 18 and df_target.Year[i] == for_merge.year[j]:\n",
    "                # 타겟종 관측 좌표와 새 관측좌표의 거리가 1km이하이고, 해당 좌표의 관측 연도가 같다면 count +1\n",
    "                df_target[for_merge.species[j]+'_18'][i]+=1\n"
   ]
  },
  {
   "cell_type": "code",
   "execution_count": null,
   "id": "48ec830c",
   "metadata": {},
   "outputs": [],
   "source": [
    "df_target.to_csv(\"./c9_presence.csv\")"
   ]
  }
 ],
 "metadata": {
  "kernelspec": {
   "display_name": "Python 3",
   "language": "python",
   "name": "python3"
  },
  "language_info": {
   "codemirror_mode": {
    "name": "ipython",
    "version": 3
   },
   "file_extension": ".py",
   "mimetype": "text/x-python",
   "name": "python",
   "nbconvert_exporter": "python",
   "pygments_lexer": "ipython3",
   "version": "3.8.8"
  },
  "toc": {
   "base_numbering": 1,
   "nav_menu": {},
   "number_sections": true,
   "sideBar": true,
   "skip_h1_title": false,
   "title_cell": "Table of Contents",
   "title_sidebar": "Contents",
   "toc_cell": true,
   "toc_position": {},
   "toc_section_display": true,
   "toc_window_display": true
  }
 },
 "nbformat": 4,
 "nbformat_minor": 5
}
