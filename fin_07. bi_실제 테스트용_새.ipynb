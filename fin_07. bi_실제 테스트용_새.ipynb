{
 "cells": [
  {
   "cell_type": "markdown",
   "id": "694216e3",
   "metadata": {
    "toc": true
   },
   "source": [
    "<h1>Table of Contents<span class=\"tocSkip\"></span></h1>\n",
    "<div class=\"toc\"><ul class=\"toc-item\"><li><span><a href=\"#새-dataframe-만들기\" data-toc-modified-id=\"새-dataframe-만들기-1\"><span class=\"toc-item-num\">1&nbsp;&nbsp;</span>새 dataframe 만들기</a></span></li><li><span><a href=\"#본작업\" data-toc-modified-id=\"본작업-2\"><span class=\"toc-item-num\">2&nbsp;&nbsp;</span>본작업</a></span></li></ul></div>"
   ]
  },
  {
   "cell_type": "code",
   "execution_count": 1,
   "id": "4debfaf7",
   "metadata": {},
   "outputs": [],
   "source": [
    "import pandas as pd\n",
    "import numpy as np\n",
    "import os\n",
    "from tqdm import tqdm\n",
    "from haversine import haversine"
   ]
  },
  {
   "cell_type": "markdown",
   "id": "a99d27e2",
   "metadata": {},
   "source": [
    "# 새 dataframe 만들기"
   ]
  },
  {
   "cell_type": "code",
   "execution_count": 2,
   "id": "8d3d0bdf",
   "metadata": {},
   "outputs": [],
   "source": [
    "os.chdir(path = './1_2.DOA_Bird/새/')"
   ]
  },
  {
   "cell_type": "code",
   "execution_count": 3,
   "id": "b4b9bc02",
   "metadata": {
    "scrolled": true
   },
   "outputs": [
    {
     "name": "stderr",
     "output_type": "stream",
     "text": [
      "C:\\Users\\DAEGYEONGLEE\\anaconda3\\lib\\site-packages\\IPython\\core\\interactiveshell.py:3165: DtypeWarning: Columns (49) have mixed types.Specify dtype option on import or set low_memory=False.\n",
      "  has_raised = await self.run_ast_nodes(code_ast.body, cell_name,\n",
      "C:\\Users\\DAEGYEONGLEE\\anaconda3\\lib\\site-packages\\IPython\\core\\interactiveshell.py:3165: DtypeWarning: Columns (14,16,17,36,37,38,39,41,43,44,46,48) have mixed types.Specify dtype option on import or set low_memory=False.\n",
      "  has_raised = await self.run_ast_nodes(code_ast.body, cell_name,\n"
     ]
    }
   ],
   "source": [
    "for i in range(len(os.listdir())):\n",
    "    globals()['bird{}'.format(i)] = pd.read_csv(os.listdir()[i],sep='\\t')"
   ]
  },
  {
   "cell_type": "code",
   "execution_count": 4,
   "id": "0fd2d2da",
   "metadata": {},
   "outputs": [],
   "source": [
    "for_merge = bird1.iloc[0:0]"
   ]
  },
  {
   "cell_type": "code",
   "execution_count": 5,
   "id": "36f464cf",
   "metadata": {},
   "outputs": [],
   "source": [
    "for i in range(26):\n",
    "    for_merge = pd.concat([for_merge,globals()['bird{}'.format(i)]])"
   ]
  },
  {
   "cell_type": "code",
   "execution_count": 6,
   "id": "8ae5cfb8",
   "metadata": {},
   "outputs": [],
   "source": [
    "bird2021 = pd.read_csv(\"../새2021.csv\")"
   ]
  },
  {
   "cell_type": "code",
   "execution_count": 7,
   "id": "c97cb1de",
   "metadata": {},
   "outputs": [],
   "source": [
    "for_merge = pd.concat([for_merge, bird2021]).reset_index(drop=True)"
   ]
  },
  {
   "cell_type": "code",
   "execution_count": 8,
   "id": "cb4d814a",
   "metadata": {},
   "outputs": [],
   "source": [
    "for_merge = for_merge[for_merge.coordinateUncertaintyInMeters.isnull()].reset_index(drop=True)"
   ]
  },
  {
   "cell_type": "code",
   "execution_count": 9,
   "id": "f978d0ad",
   "metadata": {},
   "outputs": [],
   "source": [
    "for_merge=for_merge[['species','year','month','decimalLatitude','decimalLongitude']].reset_index(drop=True)"
   ]
  },
  {
   "cell_type": "code",
   "execution_count": 10,
   "id": "eec8534d",
   "metadata": {},
   "outputs": [],
   "source": [
    "for_merge=for_merge.drop(for_merge[for_merge.species.isnull()==True].index).reset_index(drop=True)"
   ]
  },
  {
   "cell_type": "code",
   "execution_count": 11,
   "id": "ded9716f",
   "metadata": {},
   "outputs": [
    {
     "name": "stderr",
     "output_type": "stream",
     "text": [
      "100%|████████████████████████████████████████████████████████████████████| 3034469/3034469 [00:28<00:00, 108358.46it/s]\n"
     ]
    }
   ],
   "source": [
    "for_gps = []\n",
    "for i in tqdm(range(len(for_merge))):\n",
    "    for_gps.append( (for_merge['decimalLatitude'][i], for_merge['decimalLongitude'][i]) )"
   ]
  },
  {
   "cell_type": "code",
   "execution_count": 12,
   "id": "e21d76c6",
   "metadata": {
    "scrolled": true
   },
   "outputs": [],
   "source": [
    "for_merge['gps'] = for_gps"
   ]
  },
  {
   "cell_type": "code",
   "execution_count": 13,
   "id": "35a28620",
   "metadata": {},
   "outputs": [],
   "source": [
    "#INAT에서 온 친구들 거르기\n",
    "\n",
    "for_merge=for_merge[(for_merge.species!='Locustella certhiola')&(for_merge.species!='Locustella ochotensis')&\n",
    "         (for_merge.species!='Ianthocincla pectoralis')&(for_merge.species!='Luscinia calliope')&\n",
    "         (for_merge.species!='Iduna aedon')&(for_merge.species!='Phylloscopus sibillatrix')&\n",
    "         (for_merge.species!='Muscicapa latirostris')&(for_merge.species!='Tiaris bicolor')&\n",
    "         (for_merge.species!='Tiaris canorus')&(for_merge.species!='Lonchura oryzivora')&\n",
    "         (for_merge.species!='Lonchura cucullata')&(for_merge.species!='Estrilda coerulescens')&\n",
    "         (for_merge.species!='alcarius ornatus')]"
   ]
  },
  {
   "cell_type": "code",
   "execution_count": 14,
   "id": "c9c2248e",
   "metadata": {},
   "outputs": [],
   "source": [
    "for_merge = for_merge.drop_duplicates(keep='first').reset_index(drop=True)"
   ]
  },
  {
   "cell_type": "code",
   "execution_count": 15,
   "id": "acabbfdb",
   "metadata": {},
   "outputs": [],
   "source": [
    "df = for_merge"
   ]
  },
  {
   "cell_type": "code",
   "execution_count": 16,
   "id": "5ded6308",
   "metadata": {},
   "outputs": [
    {
     "data": {
      "text/html": [
       "<div>\n",
       "<style scoped>\n",
       "    .dataframe tbody tr th:only-of-type {\n",
       "        vertical-align: middle;\n",
       "    }\n",
       "\n",
       "    .dataframe tbody tr th {\n",
       "        vertical-align: top;\n",
       "    }\n",
       "\n",
       "    .dataframe thead th {\n",
       "        text-align: right;\n",
       "    }\n",
       "</style>\n",
       "<table border=\"1\" class=\"dataframe\">\n",
       "  <thead>\n",
       "    <tr style=\"text-align: right;\">\n",
       "      <th></th>\n",
       "      <th>species</th>\n",
       "      <th>year</th>\n",
       "      <th>month</th>\n",
       "      <th>decimalLatitude</th>\n",
       "      <th>decimalLongitude</th>\n",
       "      <th>gps</th>\n",
       "    </tr>\n",
       "  </thead>\n",
       "  <tbody>\n",
       "    <tr>\n",
       "      <th>0</th>\n",
       "      <td>Locustella lanceolata</td>\n",
       "      <td>2007</td>\n",
       "      <td>6</td>\n",
       "      <td>52.350440</td>\n",
       "      <td>175.917200</td>\n",
       "      <td>(52.35044, 175.9172)</td>\n",
       "    </tr>\n",
       "    <tr>\n",
       "      <th>1</th>\n",
       "      <td>Locustella fluviatilis</td>\n",
       "      <td>2017</td>\n",
       "      <td>10</td>\n",
       "      <td>63.779300</td>\n",
       "      <td>-171.721450</td>\n",
       "      <td>(63.7793, -171.72145)</td>\n",
       "    </tr>\n",
       "    <tr>\n",
       "      <th>2</th>\n",
       "      <td>Locustella lanceolata</td>\n",
       "      <td>2015</td>\n",
       "      <td>10</td>\n",
       "      <td>63.779300</td>\n",
       "      <td>-171.721450</td>\n",
       "      <td>(63.7793, -171.72145)</td>\n",
       "    </tr>\n",
       "    <tr>\n",
       "      <th>3</th>\n",
       "      <td>Locustella lanceolata</td>\n",
       "      <td>2013</td>\n",
       "      <td>9</td>\n",
       "      <td>63.779300</td>\n",
       "      <td>-171.721450</td>\n",
       "      <td>(63.7793, -171.72145)</td>\n",
       "    </tr>\n",
       "    <tr>\n",
       "      <th>4</th>\n",
       "      <td>Acrocephalus schoenobaenus</td>\n",
       "      <td>2007</td>\n",
       "      <td>9</td>\n",
       "      <td>63.779300</td>\n",
       "      <td>-171.721450</td>\n",
       "      <td>(63.7793, -171.72145)</td>\n",
       "    </tr>\n",
       "    <tr>\n",
       "      <th>...</th>\n",
       "      <td>...</td>\n",
       "      <td>...</td>\n",
       "      <td>...</td>\n",
       "      <td>...</td>\n",
       "      <td>...</td>\n",
       "      <td>...</td>\n",
       "    </tr>\n",
       "    <tr>\n",
       "      <th>1531832</th>\n",
       "      <td>Tiaris olivaceus</td>\n",
       "      <td>2021</td>\n",
       "      <td>9</td>\n",
       "      <td>21.527182</td>\n",
       "      <td>-157.920013</td>\n",
       "      <td>(21.5271822, -157.9200125)</td>\n",
       "    </tr>\n",
       "    <tr>\n",
       "      <th>1531833</th>\n",
       "      <td>Tiaris olivaceus</td>\n",
       "      <td>2021</td>\n",
       "      <td>12</td>\n",
       "      <td>21.334812</td>\n",
       "      <td>-157.814511</td>\n",
       "      <td>(21.3348122, -157.8145112)</td>\n",
       "    </tr>\n",
       "    <tr>\n",
       "      <th>1531834</th>\n",
       "      <td>Tiaris olivaceus</td>\n",
       "      <td>2021</td>\n",
       "      <td>2</td>\n",
       "      <td>25.996584</td>\n",
       "      <td>-97.569051</td>\n",
       "      <td>(25.9965839, -97.5690513)</td>\n",
       "    </tr>\n",
       "    <tr>\n",
       "      <th>1531835</th>\n",
       "      <td>Tiaris olivaceus</td>\n",
       "      <td>2021</td>\n",
       "      <td>3</td>\n",
       "      <td>26.126834</td>\n",
       "      <td>-97.957817</td>\n",
       "      <td>(26.1268335, -97.9578167)</td>\n",
       "    </tr>\n",
       "    <tr>\n",
       "      <th>1531836</th>\n",
       "      <td>Tiaris olivaceus</td>\n",
       "      <td>2021</td>\n",
       "      <td>3</td>\n",
       "      <td>26.124386</td>\n",
       "      <td>-97.958565</td>\n",
       "      <td>(26.124386, -97.9585648)</td>\n",
       "    </tr>\n",
       "  </tbody>\n",
       "</table>\n",
       "<p>1531837 rows × 6 columns</p>\n",
       "</div>"
      ],
      "text/plain": [
       "                            species  year  month  decimalLatitude  \\\n",
       "0             Locustella lanceolata  2007      6        52.350440   \n",
       "1            Locustella fluviatilis  2017     10        63.779300   \n",
       "2             Locustella lanceolata  2015     10        63.779300   \n",
       "3             Locustella lanceolata  2013      9        63.779300   \n",
       "4        Acrocephalus schoenobaenus  2007      9        63.779300   \n",
       "...                             ...   ...    ...              ...   \n",
       "1531832            Tiaris olivaceus  2021      9        21.527182   \n",
       "1531833            Tiaris olivaceus  2021     12        21.334812   \n",
       "1531834            Tiaris olivaceus  2021      2        25.996584   \n",
       "1531835            Tiaris olivaceus  2021      3        26.126834   \n",
       "1531836            Tiaris olivaceus  2021      3        26.124386   \n",
       "\n",
       "         decimalLongitude                         gps  \n",
       "0              175.917200        (52.35044, 175.9172)  \n",
       "1             -171.721450       (63.7793, -171.72145)  \n",
       "2             -171.721450       (63.7793, -171.72145)  \n",
       "3             -171.721450       (63.7793, -171.72145)  \n",
       "4             -171.721450       (63.7793, -171.72145)  \n",
       "...                   ...                         ...  \n",
       "1531832       -157.920013  (21.5271822, -157.9200125)  \n",
       "1531833       -157.814511  (21.3348122, -157.8145112)  \n",
       "1531834        -97.569051   (25.9965839, -97.5690513)  \n",
       "1531835        -97.957817   (26.1268335, -97.9578167)  \n",
       "1531836        -97.958565    (26.124386, -97.9585648)  \n",
       "\n",
       "[1531837 rows x 6 columns]"
      ]
     },
     "execution_count": 16,
     "metadata": {},
     "output_type": "execute_result"
    }
   ],
   "source": [
    "df"
   ]
  },
  {
   "cell_type": "markdown",
   "id": "750d4b23",
   "metadata": {},
   "source": [
    "# 본작업"
   ]
  },
  {
   "cell_type": "code",
   "execution_count": 17,
   "id": "1eeae6c9",
   "metadata": {},
   "outputs": [],
   "source": [
    "df2 = pd.read_csv(\"../../220220_DOA_bi(최종,minmax).csv\")"
   ]
  },
  {
   "cell_type": "code",
   "execution_count": 18,
   "id": "a840cac0",
   "metadata": {},
   "outputs": [],
   "source": [
    "df2 = df2[df2.Species=='Adalia bipunctata'].reset_index(drop=True)"
   ]
  },
  {
   "cell_type": "code",
   "execution_count": 19,
   "id": "fdb4c4a7",
   "metadata": {},
   "outputs": [
    {
     "name": "stderr",
     "output_type": "stream",
     "text": [
      "100%|███████████████████████████████████████████████████████████████████████████| 1438/1438 [00:00<00:00, 62623.65it/s]\n"
     ]
    }
   ],
   "source": [
    "df2_gps = []\n",
    "for i in tqdm(range(len(df2))):\n",
    "    try:\n",
    "        df2_gps.append( (df2.Latitude[i], df2.Longitude[i]) )\n",
    "    except:\n",
    "        print(i)\n",
    "        \n",
    "        \n",
    "df2['gps'] = df2_gps"
   ]
  },
  {
   "cell_type": "code",
   "execution_count": 20,
   "id": "0d07fb41",
   "metadata": {},
   "outputs": [],
   "source": [
    "df2=df2[['Species','gps','Year']]"
   ]
  },
  {
   "cell_type": "code",
   "execution_count": 21,
   "id": "7d2464f3",
   "metadata": {},
   "outputs": [],
   "source": [
    "df_dict = {'year' + str(i): df.loc[df[\"year\"]==i].sort_values(by=\"species\").reset_index(drop=True) \n",
    "           for i in range(2007,2022)}  "
   ]
  },
  {
   "cell_type": "code",
   "execution_count": 22,
   "id": "9c88d365",
   "metadata": {},
   "outputs": [],
   "source": [
    "# ABSENCE 3종 BIPUNC PTYPE\n",
    "\n",
    "# PTYPE = ['Lanius_borealis_18',\n",
    "# 'Harmonia_axyridis_18',\n",
    "# 'Cinclus_mexicanus_18',\n",
    "# 'Coccinella_septempunctata_18',\n",
    "# 'Coelophora_maculata_18',\n",
    "# 'Cycloneda_polita_18',\n",
    "# 'Eremophila_alpestris_18',\n",
    "# 'Hippodamia_convergens_18',\n",
    "# 'Anatis_mali_18',\n",
    "# 'Hippodamia_tredecimpunctata_18',\n",
    "# \"Psyllobora_vigintimaculata_18\",\n",
    "# 'Coccinella_trifasciata_18',\n",
    "# 'Phainopepla_nitens_18',\n",
    "# 'Hippodamia_variegata_18',\n",
    "# 'Olla_vnigrum_18',\n",
    "# 'Centronyx_henslowii_18',\n",
    "# 'Coccinella_novemnotata_18',\n",
    "# 'Chilocorus_stigma_18',\n",
    "# 'Mulsantina_hudsonica_18']"
   ]
  },
  {
   "cell_type": "code",
   "execution_count": 23,
   "id": "c87d7039",
   "metadata": {},
   "outputs": [],
   "source": [
    "# bipunctata (minmax)\n",
    "\n",
    "\n",
    "# P_TYPE=['Harmonia_axyridis_18', 'Lanius_borealis_18',\n",
    "#        'Coccinella_septempunctata_18', 'Cinclus_mexicanus_18',\n",
    "#        'Coelophora_maculata_18', 'Cycloneda_polita_18',\n",
    "#        'Eremophila_alpestris_18', 'Hippodamia_convergens_18',\n",
    "#        'Anatis_mali_18', 'Hippodamia_tredecimpunctata_18',\n",
    "#        'Hippodamia_variegata_18', 'Calvia_quatuordecimguttata_18',\n",
    "#        'Anatis_lecontei_18', 'Mulsantina_picta_18',\n",
    "#        'Centronyx_henslowii_18']"
   ]
  },
  {
   "cell_type": "code",
   "execution_count": 24,
   "id": "a9e14984",
   "metadata": {},
   "outputs": [],
   "source": [
    "bass = ['Lanius borealis', 'Harmonia axyridis',\n",
    "       'Cinclus mexicanus', 'Coccinella septempunctata',\n",
    "       'Cycloneda polita', 'Eremophila alpestris',\n",
    "       'Coelophora maculata', 'Hippodamia convergens',\n",
    "       'Hippodamia tredecimpunctata', 'Anatis mali',\n",
    "       'Lanius ludovicianus', 'Hippodamia variegata',\n",
    "       'Cycloneda munda', 'Mulsantina picta',\n",
    "       'Phainopepla nitens', 'Anatis lecontei',\n",
    "       'Centronyx henslowii', 'Calvia quatuordecimguttata',\n",
    "       'Olla vnigrum', 'Coccinella novemnotata']\n",
    "\n",
    "\n",
    "PTYPE = []"
   ]
  },
  {
   "cell_type": "code",
   "execution_count": 25,
   "id": "7e69b1a5",
   "metadata": {},
   "outputs": [],
   "source": [
    "for i in bass:\n",
    "    if i in df.species.unique():\n",
    "        PTYPE.append(i)"
   ]
  },
  {
   "cell_type": "code",
   "execution_count": 26,
   "id": "de72de42",
   "metadata": {},
   "outputs": [],
   "source": [
    "for i in PTYPE:\n",
    "    for j in range(2007,2022):\n",
    "        globals()['{}_{}df'.format(i.split(\" \")[1],j)] = df_dict['year' + str(j)].loc[df_dict['year' + str(j)].species==i].reset_index(drop=True)\n",
    "\n",
    "    \n",
    "        "
   ]
  },
  {
   "cell_type": "code",
   "execution_count": 27,
   "id": "e9768d99",
   "metadata": {},
   "outputs": [],
   "source": [
    "for i in range(2007,2022):\n",
    "    for j in range(len(df2)):\n",
    "        for k in PTYPE:\n",
    "            globals()['{}_{}_{}'.format(k.split(\" \")[1],i,j)] = 0\n",
    "\n",
    "        "
   ]
  },
  {
   "cell_type": "code",
   "execution_count": 28,
   "id": "9ccf7bcc",
   "metadata": {},
   "outputs": [],
   "source": [
    "for i in range(2007,2022):\n",
    "    for j in PTYPE:\n",
    "        globals()['{}list_{}'.format(j.split(\" \")[1],i)] = []"
   ]
  },
  {
   "cell_type": "code",
   "execution_count": 29,
   "id": "715b5e6e",
   "metadata": {},
   "outputs": [
    {
     "name": "stderr",
     "output_type": "stream",
     "text": [
      "100%|████████████████████████████████████████████████████████████████████████████| 1438/1438 [8:09:49<00:00, 20.44s/it]\n"
     ]
    }
   ],
   "source": [
    "for i in tqdm(range(len(df2.gps))):\n",
    "    for j in range(2007,2022):\n",
    "        for name in PTYPE:\n",
    "            for k in range(len(globals()['{}_{}df'.format(name.split(\" \")[1],j)])):\n",
    "                if haversine(globals()['{}_{}df'.format(name.split(\" \")[1],j)].gps[k], df2.gps[i], unit='km') <= 18:\n",
    "                    globals()['{}_{}_{}'.format(name.split(\" \")[1],j,i)] += 1\n",
    "        \n",
    "\n",
    "                \n",
    "\n",
    "                \n",
    "                \n"
   ]
  },
  {
   "cell_type": "code",
   "execution_count": 30,
   "id": "190a60cf",
   "metadata": {},
   "outputs": [],
   "source": [
    "for name in PTYPE:\n",
    "    for j in range(2007,2022):\n",
    "        for k in range(len(df2.gps)):\n",
    "            globals()['{}list_{}'.format(name.split(\" \")[1],j)].append(globals()['{}_{}_{}'.format(name.split(\" \")[1],j,k)])\n",
    "\n",
    "\n"
   ]
  },
  {
   "cell_type": "code",
   "execution_count": 31,
   "id": "91db06a3",
   "metadata": {},
   "outputs": [],
   "source": [
    "for name in PTYPE:\n",
    "    for j in range(2007,2022):\n",
    "        df2[name.split(\" \")[1]+\"_\"+str(j)+\"_18km\"] = globals()['{}list_{}'.format(name.split(\" \")[1],j)]"
   ]
  },
  {
   "cell_type": "code",
   "execution_count": 32,
   "id": "6f35217a",
   "metadata": {},
   "outputs": [
    {
     "data": {
      "text/html": [
       "<div>\n",
       "<style scoped>\n",
       "    .dataframe tbody tr th:only-of-type {\n",
       "        vertical-align: middle;\n",
       "    }\n",
       "\n",
       "    .dataframe tbody tr th {\n",
       "        vertical-align: top;\n",
       "    }\n",
       "\n",
       "    .dataframe thead th {\n",
       "        text-align: right;\n",
       "    }\n",
       "</style>\n",
       "<table border=\"1\" class=\"dataframe\">\n",
       "  <thead>\n",
       "    <tr style=\"text-align: right;\">\n",
       "      <th></th>\n",
       "      <th>Year</th>\n",
       "      <th>borealis_2007_18km</th>\n",
       "      <th>borealis_2008_18km</th>\n",
       "      <th>borealis_2009_18km</th>\n",
       "      <th>borealis_2010_18km</th>\n",
       "      <th>borealis_2011_18km</th>\n",
       "      <th>borealis_2012_18km</th>\n",
       "      <th>borealis_2013_18km</th>\n",
       "      <th>borealis_2014_18km</th>\n",
       "      <th>borealis_2015_18km</th>\n",
       "      <th>...</th>\n",
       "      <th>henslowii_2012_18km</th>\n",
       "      <th>henslowii_2013_18km</th>\n",
       "      <th>henslowii_2014_18km</th>\n",
       "      <th>henslowii_2015_18km</th>\n",
       "      <th>henslowii_2016_18km</th>\n",
       "      <th>henslowii_2017_18km</th>\n",
       "      <th>henslowii_2018_18km</th>\n",
       "      <th>henslowii_2019_18km</th>\n",
       "      <th>henslowii_2020_18km</th>\n",
       "      <th>henslowii_2021_18km</th>\n",
       "    </tr>\n",
       "  </thead>\n",
       "  <tbody>\n",
       "    <tr>\n",
       "      <th>count</th>\n",
       "      <td>1438.000000</td>\n",
       "      <td>1438.000000</td>\n",
       "      <td>1438.000000</td>\n",
       "      <td>1438.000000</td>\n",
       "      <td>1438.000000</td>\n",
       "      <td>1438.000000</td>\n",
       "      <td>1438.000000</td>\n",
       "      <td>1438.000000</td>\n",
       "      <td>1438.000000</td>\n",
       "      <td>1438.000000</td>\n",
       "      <td>...</td>\n",
       "      <td>1438.000000</td>\n",
       "      <td>1438.000000</td>\n",
       "      <td>1438.000000</td>\n",
       "      <td>1438.000000</td>\n",
       "      <td>1438.000000</td>\n",
       "      <td>1438.000000</td>\n",
       "      <td>1438.000000</td>\n",
       "      <td>1438.000000</td>\n",
       "      <td>1438.000000</td>\n",
       "      <td>1438.000000</td>\n",
       "    </tr>\n",
       "    <tr>\n",
       "      <th>mean</th>\n",
       "      <td>2017.327538</td>\n",
       "      <td>2.391516</td>\n",
       "      <td>2.835883</td>\n",
       "      <td>2.486787</td>\n",
       "      <td>2.883171</td>\n",
       "      <td>3.503477</td>\n",
       "      <td>6.796245</td>\n",
       "      <td>5.586231</td>\n",
       "      <td>6.222531</td>\n",
       "      <td>8.776078</td>\n",
       "      <td>...</td>\n",
       "      <td>0.050765</td>\n",
       "      <td>0.058414</td>\n",
       "      <td>0.188456</td>\n",
       "      <td>0.055633</td>\n",
       "      <td>0.052156</td>\n",
       "      <td>0.093880</td>\n",
       "      <td>0.079277</td>\n",
       "      <td>0.072323</td>\n",
       "      <td>0.252434</td>\n",
       "      <td>0.263561</td>\n",
       "    </tr>\n",
       "    <tr>\n",
       "      <th>std</th>\n",
       "      <td>3.925784</td>\n",
       "      <td>4.079292</td>\n",
       "      <td>5.498230</td>\n",
       "      <td>4.476899</td>\n",
       "      <td>5.855507</td>\n",
       "      <td>5.906101</td>\n",
       "      <td>9.997957</td>\n",
       "      <td>7.878196</td>\n",
       "      <td>10.340036</td>\n",
       "      <td>16.134997</td>\n",
       "      <td>...</td>\n",
       "      <td>0.782238</td>\n",
       "      <td>1.138646</td>\n",
       "      <td>1.238989</td>\n",
       "      <td>1.281947</td>\n",
       "      <td>0.959547</td>\n",
       "      <td>1.551331</td>\n",
       "      <td>1.582560</td>\n",
       "      <td>1.366789</td>\n",
       "      <td>2.009955</td>\n",
       "      <td>1.284540</td>\n",
       "    </tr>\n",
       "    <tr>\n",
       "      <th>min</th>\n",
       "      <td>2007.000000</td>\n",
       "      <td>0.000000</td>\n",
       "      <td>0.000000</td>\n",
       "      <td>0.000000</td>\n",
       "      <td>0.000000</td>\n",
       "      <td>0.000000</td>\n",
       "      <td>0.000000</td>\n",
       "      <td>0.000000</td>\n",
       "      <td>0.000000</td>\n",
       "      <td>0.000000</td>\n",
       "      <td>...</td>\n",
       "      <td>0.000000</td>\n",
       "      <td>0.000000</td>\n",
       "      <td>0.000000</td>\n",
       "      <td>0.000000</td>\n",
       "      <td>0.000000</td>\n",
       "      <td>0.000000</td>\n",
       "      <td>0.000000</td>\n",
       "      <td>0.000000</td>\n",
       "      <td>0.000000</td>\n",
       "      <td>0.000000</td>\n",
       "    </tr>\n",
       "    <tr>\n",
       "      <th>25%</th>\n",
       "      <td>2015.000000</td>\n",
       "      <td>0.000000</td>\n",
       "      <td>0.000000</td>\n",
       "      <td>0.000000</td>\n",
       "      <td>0.000000</td>\n",
       "      <td>0.000000</td>\n",
       "      <td>0.000000</td>\n",
       "      <td>0.000000</td>\n",
       "      <td>0.000000</td>\n",
       "      <td>0.000000</td>\n",
       "      <td>...</td>\n",
       "      <td>0.000000</td>\n",
       "      <td>0.000000</td>\n",
       "      <td>0.000000</td>\n",
       "      <td>0.000000</td>\n",
       "      <td>0.000000</td>\n",
       "      <td>0.000000</td>\n",
       "      <td>0.000000</td>\n",
       "      <td>0.000000</td>\n",
       "      <td>0.000000</td>\n",
       "      <td>0.000000</td>\n",
       "    </tr>\n",
       "    <tr>\n",
       "      <th>50%</th>\n",
       "      <td>2019.000000</td>\n",
       "      <td>0.000000</td>\n",
       "      <td>0.000000</td>\n",
       "      <td>1.000000</td>\n",
       "      <td>1.000000</td>\n",
       "      <td>1.000000</td>\n",
       "      <td>2.000000</td>\n",
       "      <td>2.000000</td>\n",
       "      <td>1.000000</td>\n",
       "      <td>1.000000</td>\n",
       "      <td>...</td>\n",
       "      <td>0.000000</td>\n",
       "      <td>0.000000</td>\n",
       "      <td>0.000000</td>\n",
       "      <td>0.000000</td>\n",
       "      <td>0.000000</td>\n",
       "      <td>0.000000</td>\n",
       "      <td>0.000000</td>\n",
       "      <td>0.000000</td>\n",
       "      <td>0.000000</td>\n",
       "      <td>0.000000</td>\n",
       "    </tr>\n",
       "    <tr>\n",
       "      <th>75%</th>\n",
       "      <td>2021.000000</td>\n",
       "      <td>3.000000</td>\n",
       "      <td>4.000000</td>\n",
       "      <td>3.000000</td>\n",
       "      <td>3.000000</td>\n",
       "      <td>5.000000</td>\n",
       "      <td>11.000000</td>\n",
       "      <td>9.000000</td>\n",
       "      <td>8.000000</td>\n",
       "      <td>9.000000</td>\n",
       "      <td>...</td>\n",
       "      <td>0.000000</td>\n",
       "      <td>0.000000</td>\n",
       "      <td>0.000000</td>\n",
       "      <td>0.000000</td>\n",
       "      <td>0.000000</td>\n",
       "      <td>0.000000</td>\n",
       "      <td>0.000000</td>\n",
       "      <td>0.000000</td>\n",
       "      <td>0.000000</td>\n",
       "      <td>0.000000</td>\n",
       "    </tr>\n",
       "    <tr>\n",
       "      <th>max</th>\n",
       "      <td>2021.000000</td>\n",
       "      <td>29.000000</td>\n",
       "      <td>56.000000</td>\n",
       "      <td>44.000000</td>\n",
       "      <td>81.000000</td>\n",
       "      <td>71.000000</td>\n",
       "      <td>62.000000</td>\n",
       "      <td>60.000000</td>\n",
       "      <td>76.000000</td>\n",
       "      <td>89.000000</td>\n",
       "      <td>...</td>\n",
       "      <td>24.000000</td>\n",
       "      <td>41.000000</td>\n",
       "      <td>40.000000</td>\n",
       "      <td>47.000000</td>\n",
       "      <td>33.000000</td>\n",
       "      <td>49.000000</td>\n",
       "      <td>56.000000</td>\n",
       "      <td>50.000000</td>\n",
       "      <td>71.000000</td>\n",
       "      <td>36.000000</td>\n",
       "    </tr>\n",
       "  </tbody>\n",
       "</table>\n",
       "<p>8 rows × 91 columns</p>\n",
       "</div>"
      ],
      "text/plain": [
       "              Year  borealis_2007_18km  borealis_2008_18km  \\\n",
       "count  1438.000000         1438.000000         1438.000000   \n",
       "mean   2017.327538            2.391516            2.835883   \n",
       "std       3.925784            4.079292            5.498230   \n",
       "min    2007.000000            0.000000            0.000000   \n",
       "25%    2015.000000            0.000000            0.000000   \n",
       "50%    2019.000000            0.000000            0.000000   \n",
       "75%    2021.000000            3.000000            4.000000   \n",
       "max    2021.000000           29.000000           56.000000   \n",
       "\n",
       "       borealis_2009_18km  borealis_2010_18km  borealis_2011_18km  \\\n",
       "count         1438.000000         1438.000000         1438.000000   \n",
       "mean             2.486787            2.883171            3.503477   \n",
       "std              4.476899            5.855507            5.906101   \n",
       "min              0.000000            0.000000            0.000000   \n",
       "25%              0.000000            0.000000            0.000000   \n",
       "50%              1.000000            1.000000            1.000000   \n",
       "75%              3.000000            3.000000            5.000000   \n",
       "max             44.000000           81.000000           71.000000   \n",
       "\n",
       "       borealis_2012_18km  borealis_2013_18km  borealis_2014_18km  \\\n",
       "count         1438.000000         1438.000000         1438.000000   \n",
       "mean             6.796245            5.586231            6.222531   \n",
       "std              9.997957            7.878196           10.340036   \n",
       "min              0.000000            0.000000            0.000000   \n",
       "25%              0.000000            0.000000            0.000000   \n",
       "50%              2.000000            2.000000            1.000000   \n",
       "75%             11.000000            9.000000            8.000000   \n",
       "max             62.000000           60.000000           76.000000   \n",
       "\n",
       "       borealis_2015_18km  ...  henslowii_2012_18km  henslowii_2013_18km  \\\n",
       "count         1438.000000  ...          1438.000000          1438.000000   \n",
       "mean             8.776078  ...             0.050765             0.058414   \n",
       "std             16.134997  ...             0.782238             1.138646   \n",
       "min              0.000000  ...             0.000000             0.000000   \n",
       "25%              0.000000  ...             0.000000             0.000000   \n",
       "50%              1.000000  ...             0.000000             0.000000   \n",
       "75%              9.000000  ...             0.000000             0.000000   \n",
       "max             89.000000  ...            24.000000            41.000000   \n",
       "\n",
       "       henslowii_2014_18km  henslowii_2015_18km  henslowii_2016_18km  \\\n",
       "count          1438.000000          1438.000000          1438.000000   \n",
       "mean              0.188456             0.055633             0.052156   \n",
       "std               1.238989             1.281947             0.959547   \n",
       "min               0.000000             0.000000             0.000000   \n",
       "25%               0.000000             0.000000             0.000000   \n",
       "50%               0.000000             0.000000             0.000000   \n",
       "75%               0.000000             0.000000             0.000000   \n",
       "max              40.000000            47.000000            33.000000   \n",
       "\n",
       "       henslowii_2017_18km  henslowii_2018_18km  henslowii_2019_18km  \\\n",
       "count          1438.000000          1438.000000          1438.000000   \n",
       "mean              0.093880             0.079277             0.072323   \n",
       "std               1.551331             1.582560             1.366789   \n",
       "min               0.000000             0.000000             0.000000   \n",
       "25%               0.000000             0.000000             0.000000   \n",
       "50%               0.000000             0.000000             0.000000   \n",
       "75%               0.000000             0.000000             0.000000   \n",
       "max              49.000000            56.000000            50.000000   \n",
       "\n",
       "       henslowii_2020_18km  henslowii_2021_18km  \n",
       "count          1438.000000          1438.000000  \n",
       "mean              0.252434             0.263561  \n",
       "std               2.009955             1.284540  \n",
       "min               0.000000             0.000000  \n",
       "25%               0.000000             0.000000  \n",
       "50%               0.000000             0.000000  \n",
       "75%               0.000000             0.000000  \n",
       "max              71.000000            36.000000  \n",
       "\n",
       "[8 rows x 91 columns]"
      ]
     },
     "execution_count": 32,
     "metadata": {},
     "output_type": "execute_result"
    }
   ],
   "source": [
    "df2.describe()"
   ]
  },
  {
   "cell_type": "code",
   "execution_count": null,
   "id": "e0bbe864",
   "metadata": {},
   "outputs": [],
   "source": []
  },
  {
   "cell_type": "code",
   "execution_count": null,
   "id": "94d7c0d6",
   "metadata": {},
   "outputs": [],
   "source": []
  },
  {
   "cell_type": "code",
   "execution_count": null,
   "id": "05d2babb",
   "metadata": {},
   "outputs": [],
   "source": []
  },
  {
   "cell_type": "code",
   "execution_count": null,
   "id": "260a2fc3",
   "metadata": {},
   "outputs": [],
   "source": []
  },
  {
   "cell_type": "code",
   "execution_count": 33,
   "id": "b0680e29",
   "metadata": {},
   "outputs": [],
   "source": [
    "df2.to_csv('../20220226_DOA_bipunctata실제테스트_새(3종).csv')"
   ]
  },
  {
   "cell_type": "code",
   "execution_count": null,
   "id": "d11fe172",
   "metadata": {},
   "outputs": [],
   "source": []
  },
  {
   "cell_type": "code",
   "execution_count": null,
   "id": "51e0d565",
   "metadata": {},
   "outputs": [],
   "source": []
  },
  {
   "cell_type": "code",
   "execution_count": null,
   "id": "6879b72d",
   "metadata": {},
   "outputs": [],
   "source": []
  }
 ],
 "metadata": {
  "kernelspec": {
   "display_name": "Python 3",
   "language": "python",
   "name": "python3"
  },
  "language_info": {
   "codemirror_mode": {
    "name": "ipython",
    "version": 3
   },
   "file_extension": ".py",
   "mimetype": "text/x-python",
   "name": "python",
   "nbconvert_exporter": "python",
   "pygments_lexer": "ipython3",
   "version": "3.8.8"
  },
  "toc": {
   "base_numbering": 1,
   "nav_menu": {},
   "number_sections": true,
   "sideBar": true,
   "skip_h1_title": false,
   "title_cell": "Table of Contents",
   "title_sidebar": "Contents",
   "toc_cell": true,
   "toc_position": {},
   "toc_section_display": true,
   "toc_window_display": true
  }
 },
 "nbformat": 4,
 "nbformat_minor": 5
}
