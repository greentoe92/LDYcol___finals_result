{
 "cells": [
  {
   "cell_type": "markdown",
   "id": "7c9d8507",
   "metadata": {
    "toc": true
   },
   "source": [
    "<h1>Table of Contents<span class=\"tocSkip\"></span></h1>\n",
    "<div class=\"toc\"><ul class=\"toc-item\"><li><span><a href=\"#무당벌레-추가-작업-진행\" data-toc-modified-id=\"무당벌레-추가-작업-진행-1\"><span class=\"toc-item-num\">1&nbsp;&nbsp;</span>무당벌레 추가 작업 진행</a></span></li><li><span><a href=\"#새-추가-작업-진행\" data-toc-modified-id=\"새-추가-작업-진행-2\"><span class=\"toc-item-num\">2&nbsp;&nbsp;</span>새 추가 작업 진행</a></span></li></ul></div>"
   ]
  },
  {
   "cell_type": "code",
   "execution_count": 1,
   "id": "5e187e94",
   "metadata": {},
   "outputs": [],
   "source": [
    "import pandas as pd\n",
    "from tqdm import tqdm\n",
    "from haversine import haversine"
   ]
  },
  {
   "cell_type": "code",
   "execution_count": 2,
   "id": "7c421310",
   "metadata": {},
   "outputs": [],
   "source": [
    "df = pd.read_csv('../../20220209_07_21_무당벌레관측.csv')\n",
    "df_target = pd.read_csv('./absence_지역선정_1km.csv')"
   ]
  },
  {
   "cell_type": "markdown",
   "id": "009ee9da",
   "metadata": {},
   "source": [
    "# 무당벌레 추가 작업 진행"
   ]
  },
  {
   "cell_type": "code",
   "execution_count": 3,
   "id": "0a52323b",
   "metadata": {},
   "outputs": [],
   "source": [
    "df = df[df.public_positional_accuracy<=1000].reset_index(drop=True)"
   ]
  },
  {
   "cell_type": "code",
   "execution_count": 4,
   "id": "6ecbdc3b",
   "metadata": {},
   "outputs": [],
   "source": [
    "df = df[(df.Latitude!=0.0)&(df.Longitude!=0.0)].reset_index(drop=True)"
   ]
  },
  {
   "cell_type": "code",
   "execution_count": 5,
   "id": "406159f9",
   "metadata": {},
   "outputs": [
    {
     "name": "stderr",
     "output_type": "stream",
     "text": [
      "100%|███████████████████████████████████████████████████████████████████████| 190594/190594 [00:02<00:00, 71345.21it/s]\n"
     ]
    }
   ],
   "source": [
    "#gps 변환\n",
    "df.Latitude = df.Latitude.astype(float)\n",
    "df.Longitude = df.Longitude.astype(float)\n",
    "\n",
    "df_gps = []\n",
    "for i in tqdm(range(len(df))):\n",
    "    df_gps.append( (df.Latitude[i], df.Longitude[i]) )\n",
    "    \n",
    "    \n",
    "df['gps'] = df_gps"
   ]
  },
  {
   "cell_type": "code",
   "execution_count": 6,
   "id": "efac72e9",
   "metadata": {},
   "outputs": [
    {
     "name": "stderr",
     "output_type": "stream",
     "text": [
      "100%|███████████████████████████████████████████████████████████████████████████| 3172/3172 [00:00<00:00, 69140.71it/s]\n"
     ]
    }
   ],
   "source": [
    "#gps 변환\n",
    "df_target.Latitude = df_target.Latitude.astype(float)\n",
    "df_target.Longitude = df_target.Longitude.astype(float)\n",
    "\n",
    "df_target_gps = []\n",
    "for i in tqdm(range(len(df_target))):\n",
    "    df_target_gps.append( (df_target.Latitude[i], df_target.Longitude[i]) )\n",
    "    \n",
    "    \n",
    "df_target['gps'] = df_target_gps"
   ]
  },
  {
   "cell_type": "code",
   "execution_count": 7,
   "id": "c40f751d",
   "metadata": {},
   "outputs": [],
   "source": [
    "#sp.로 들어간 애들을 제거\n",
    "\n",
    "sp_idx = []\n",
    "for i in range(len(df)):\n",
    "    if 'sp.' in df.Species[i]:\n",
    "        sp_idx.append(i)\n",
    "        "
   ]
  },
  {
   "cell_type": "code",
   "execution_count": 8,
   "id": "6bd9c6db",
   "metadata": {},
   "outputs": [],
   "source": [
    "df= df.drop(sp_idx).reset_index(drop=True)"
   ]
  },
  {
   "cell_type": "code",
   "execution_count": 9,
   "id": "4b5dbe2b",
   "metadata": {},
   "outputs": [],
   "source": [
    "# value_counts 해서 통계적으로 유의미한 30개도 안되는 애들 고르기\n",
    "under_30 = []\n",
    "for i in range(len(df.Species.value_counts())):\n",
    "    if df.Species.value_counts()[i]<30:\n",
    "        under_30.append(df.Species.value_counts().index[i])"
   ]
  },
  {
   "cell_type": "code",
   "execution_count": 10,
   "id": "1b4b8eaf",
   "metadata": {},
   "outputs": [
    {
     "name": "stderr",
     "output_type": "stream",
     "text": [
      "100%|█████████████████████████████████████████████████████████████████████████| 177580/177580 [05:09<00:00, 572.90it/s]\n"
     ]
    }
   ],
   "source": [
    "# 고른애들과 이름이 같다면 drop해야하므로 index저장\n",
    "drop_30 = []\n",
    "for i in tqdm(range(len(df.Species))):\n",
    "    for j in under_30:\n",
    "        if df.Species[i] == j:\n",
    "            drop_30.append(i)"
   ]
  },
  {
   "cell_type": "code",
   "execution_count": 11,
   "id": "fac115d9",
   "metadata": {},
   "outputs": [],
   "source": [
    "df= df.drop(drop_30).reset_index(drop=True)"
   ]
  },
  {
   "cell_type": "code",
   "execution_count": 12,
   "id": "6de19b0d",
   "metadata": {},
   "outputs": [],
   "source": [
    "# 속만 있는 경우 제거\n",
    "one_letter = []\n",
    "for i in df.Species.value_counts().index:\n",
    "    if len(i.split(' ')) == 1:\n",
    "        one_letter.append(i)"
   ]
  },
  {
   "cell_type": "code",
   "execution_count": 13,
   "id": "ee156ffc",
   "metadata": {},
   "outputs": [
    {
     "name": "stderr",
     "output_type": "stream",
     "text": [
      "100%|███████████████████████████████████████████████████████████████████████| 175834/175834 [00:11<00:00, 14782.02it/s]\n"
     ]
    }
   ],
   "source": [
    "drop_one = []\n",
    "for i in tqdm(range(len(df.Species))):\n",
    "    for j in one_letter:\n",
    "        if df.Species[i] == j:\n",
    "            drop_one.append(i)"
   ]
  },
  {
   "cell_type": "code",
   "execution_count": 14,
   "id": "8656e0f6",
   "metadata": {},
   "outputs": [],
   "source": [
    "df = df.drop(drop_one).reset_index(drop=True)"
   ]
  },
  {
   "cell_type": "code",
   "execution_count": 15,
   "id": "c431df11",
   "metadata": {},
   "outputs": [],
   "source": [
    "df = df.drop_duplicates(keep='first')"
   ]
  },
  {
   "cell_type": "code",
   "execution_count": 17,
   "id": "4fdae093",
   "metadata": {},
   "outputs": [
    {
     "data": {
      "text/plain": [
       "90"
      ]
     },
     "execution_count": 17,
     "metadata": {},
     "output_type": "execute_result"
    }
   ],
   "source": [
    "# 고려되는 전체 종의 개수\n",
    "len(df.Species.value_counts().index)\n",
    "#Chilocorus kuwanae 4.5km일때와 달리 1km에서는 30개 미만이라 날아감"
   ]
  },
  {
   "cell_type": "code",
   "execution_count": null,
   "id": "176c9f91",
   "metadata": {
    "scrolled": true
   },
   "outputs": [
    {
     "name": "stderr",
     "output_type": "stream",
     "text": [
      "  0%|                                                                                         | 0/3172 [00:00<?, ?it/s]<ipython-input-18-190776d1a3a7>:9: SettingWithCopyWarning: \n",
      "A value is trying to be set on a copy of a slice from a DataFrame\n",
      "\n",
      "See the caveats in the documentation: https://pandas.pydata.org/pandas-docs/stable/user_guide/indexing.html#returning-a-view-versus-a-copy\n",
      "  df_ab[df.Species[j]+'_1'][i]+=1\n",
      " 10%|███████▍                                                                     | 305/3172 [16:07<2:37:53,  3.30s/it]"
     ]
    }
   ],
   "source": [
    "for i in df.Species.value_counts().index:\n",
    "    df_target[i+'_18'] = 0\n",
    "\n",
    "# 주변 종 체크, 관측신뢰도 생성\n",
    "\n",
    "for i in tqdm(range(len(df_target))): # c9만 뽑아놓은 데이터 프레임\n",
    "    for j in range(len(df.gps)):  # 전체 무당벌레 데이터 프레임            \n",
    "        if haversine(df_target.gps[i], df.gps[j], unit='km') <= 18 and df_target.Year[i] == df.Year[j]:\n",
    "            df_target[df.Species[j]+'_18'][i]+=1\n",
    "        \n",
    "        \n",
    "        \n",
    "        \n",
    "        "
   ]
  },
  {
   "cell_type": "code",
   "execution_count": null,
   "id": "95622a1b",
   "metadata": {},
   "outputs": [],
   "source": []
  },
  {
   "cell_type": "code",
   "execution_count": null,
   "id": "bae1ef11",
   "metadata": {},
   "outputs": [],
   "source": []
  },
  {
   "cell_type": "markdown",
   "id": "65ef3aca",
   "metadata": {},
   "source": [
    "# 새 추가 작업 진행"
   ]
  },
  {
   "cell_type": "code",
   "execution_count": null,
   "id": "fdd37de6",
   "metadata": {},
   "outputs": [],
   "source": [
    "# Ebird에서 가져온 새 목록 합치기\n",
    "os.chdir(path = './Data/E_bird/')\n",
    "\n",
    "# directory 내의 csv들을 전부 가져와서\n",
    "for i in range(len(os.listdir())):\n",
    "    globals()['bird{}'.format(i)] = pd.read_csv(os.listdir()[i],sep='\\t')\n",
    "\n",
    "# for_merge 라는 변수에 모두 합쳐놓음\n",
    "for_merge = bird1.iloc[0:0]\n",
    "for i in range(26):\n",
    "    for_merge = pd.concat([for_merge,globals()['bird{}'.format(i)]])\n",
    "bird2021 = pd.read_csv(\"../새2021.csv\")\n",
    "for_merge = pd.concat([for_merge, bird2021]).reset_index(drop=True)\n",
    "\n",
    "\n",
    "# EBIRD자료는 GPS정확도를 제공하지 않으므로, GPS정확도가 존재한다면 INAT의 자료임\n",
    "for_merge = for_merge[for_merge.coordinateUncertaintyInMeters.isnull()].reset_index(drop=True)\n",
    "\n",
    "# 필요한 컬럼들만 남김\n",
    "for_merge=for_merge[['species','year','month','decimalLatitude','decimalLongitude']].reset_index(drop=True)\n",
    "\n",
    "# 종 이름이 NAN이면 쓸수 없으므로 DROP\n",
    "for_merge=for_merge.drop(for_merge[for_merge.species.isnull()==True].index).reset_index(drop=True)\n",
    "\n",
    "# haversine은 set에 들어있는 gps값을 받음 (lat, lon) 이형식으로 변환하는 과정\n",
    "for_gps = []\n",
    "for i in tqdm(range(len(for_merge))):\n",
    "    for_gps.append( (for_merge['decimalLatitude'][i], for_merge['decimalLongitude'][i]) )\n",
    "    \n",
    "for_merge['gps'] = for_gps\n",
    "\n",
    "\n",
    "\n",
    "for_merge=for_merge[(for_merge.species!='Locustella certhiola')&(for_merge.species!='Locustella ochotensis')&\n",
    "         (for_merge.species!='Ianthocincla pectoralis')&(for_merge.species!='Luscinia calliope')&\n",
    "         (for_merge.species!='Iduna aedon')&(for_merge.species!='Phylloscopus sibillatrix')&\n",
    "         (for_merge.species!='Muscicapa latirostris')&(for_merge.species!='Tiaris bicolor')&\n",
    "         (for_merge.species!='Tiaris canorus')&(for_merge.species!='Lonchura oryzivora')&\n",
    "         (for_merge.species!='Lonchura cucullata')&(for_merge.species!='Estrilda coerulescens')&\n",
    "         (for_merge.species!='alcarius ornatus')]\n",
    "\n",
    "# 무당벌레는 관측지역에 잡힌 숫자를 믿을 수 없어서 관측 자체만 믿었음, 새 역시도 drop_duplicate로 동일한 절차 진행\n",
    "for_merge = for_merge.drop_duplicates(keep='first').reset_index(drop=True)\n",
    "\n",
    "\n",
    "# 타겟종의 데이터프레임에 주변 정보를 카운트해서 넣을 컬럼 생성\n",
    "for i in for_merge.species.value_counts().index:\n",
    "    df_target[i+'_1'] = 0"
   ]
  },
  {
   "cell_type": "code",
   "execution_count": null,
   "id": "0619f435",
   "metadata": {},
   "outputs": [],
   "source": [
    "for i in tqdm(range(len(df_target))): # 타겟종만 뽑아놓은 데이터 프레임\n",
    "    for j in range(len(for_merge.gps)):  # 전체 새 데이터 프레임\n",
    "            if haversine(df_target.gps[i], for_merge.gps[j], unit='km') <= 1 and df_target.Year[i] == for_merge.year[j]:\n",
    "                # 타겟종 관측 좌표와 새 관측좌표의 거리가 1km이하이고, 해당 좌표의 관측 연도가 같다면 count +1\n",
    "                df_target[for_merge.species[j]+'_1'][i]+=1\n"
   ]
  },
  {
   "cell_type": "code",
   "execution_count": null,
   "id": "0311cc90",
   "metadata": {},
   "outputs": [],
   "source": []
  },
  {
   "cell_type": "code",
   "execution_count": null,
   "id": "699e89cf",
   "metadata": {},
   "outputs": [],
   "source": []
  },
  {
   "cell_type": "code",
   "execution_count": null,
   "id": "59d4b91f",
   "metadata": {},
   "outputs": [],
   "source": [
    "df_target.to_csv(\"./DOA_집계완료_absence_1km.csv\")"
   ]
  }
 ],
 "metadata": {
  "kernelspec": {
   "display_name": "Python 3",
   "language": "python",
   "name": "python3"
  },
  "language_info": {
   "codemirror_mode": {
    "name": "ipython",
    "version": 3
   },
   "file_extension": ".py",
   "mimetype": "text/x-python",
   "name": "python",
   "nbconvert_exporter": "python",
   "pygments_lexer": "ipython3",
   "version": "3.8.8"
  },
  "toc": {
   "base_numbering": 1,
   "nav_menu": {},
   "number_sections": true,
   "sideBar": true,
   "skip_h1_title": false,
   "title_cell": "Table of Contents",
   "title_sidebar": "Contents",
   "toc_cell": true,
   "toc_position": {},
   "toc_section_display": true,
   "toc_window_display": true
  }
 },
 "nbformat": 4,
 "nbformat_minor": 5
}
