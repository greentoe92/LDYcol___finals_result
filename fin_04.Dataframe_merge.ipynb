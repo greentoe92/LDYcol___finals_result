{
 "cells": [
  {
   "cell_type": "code",
   "execution_count": 2,
   "id": "2bd808b3",
   "metadata": {},
   "outputs": [],
   "source": [
    "import pandas as pd"
   ]
  },
  {
   "cell_type": "code",
   "execution_count": 3,
   "id": "6aee9b96",
   "metadata": {},
   "outputs": [],
   "source": [
    "df = pd.read_csv(\"./DOA_집계완료_absence_1km1km.csv\")\n",
    "df_target = pd.read_csv('../../1.c9_arround_ladybug_presence/20220209a_c9_arround_gps_1000_1km.csv')"
   ]
  },
  {
   "cell_type": "code",
   "execution_count": 4,
   "id": "5ebf7eb1",
   "metadata": {},
   "outputs": [],
   "source": [
    "df_fin = pd.concat([df,df_target]).reset_index(drop=True)"
   ]
  },
  {
   "cell_type": "code",
   "execution_count": 7,
   "id": "f80a8e8b",
   "metadata": {},
   "outputs": [],
   "source": [
    "df_fin.to_csv(\"./220212_bipunctata_DOA(무당벌레만)_1km.csv\")"
   ]
  },
  {
   "cell_type": "code",
   "execution_count": null,
   "id": "0ba564fe",
   "metadata": {},
   "outputs": [],
   "source": []
  }
 ],
 "metadata": {
  "kernelspec": {
   "display_name": "Python 3",
   "language": "python",
   "name": "python3"
  },
  "language_info": {
   "codemirror_mode": {
    "name": "ipython",
    "version": 3
   },
   "file_extension": ".py",
   "mimetype": "text/x-python",
   "name": "python",
   "nbconvert_exporter": "python",
   "pygments_lexer": "ipython3",
   "version": "3.8.8"
  }
 },
 "nbformat": 4,
 "nbformat_minor": 5
}
